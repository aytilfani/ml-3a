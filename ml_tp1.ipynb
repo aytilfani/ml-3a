{
 "cells": [
  {
   "cell_type": "markdown",
   "id": "6eb65e3a-cec6-464a-b4c9-d657c048f3f1",
   "metadata": {
    "deletable": false,
    "editable": false,
    "id": "6eb65e3a-cec6-464a-b4c9-d657c048f3f1",
    "nbgrader": {
     "cell_type": "markdown",
     "checksum": "2e75315912c1a1649b5f0daf8d8526a1",
     "grade": false,
     "grade_id": "cell-6423b43f63e98896",
     "locked": true,
     "schema_version": 3,
     "solution": false,
     "task": false
    },
    "tags": []
   },
   "source": [
    "# IS318 - Machine Learning\n",
    "\n",
    "## TP1 - Linear regression\n",
    "\n",
    "The goal of this TP is to experiment with linear regression and polynomial linear regression.\n",
    "\n",
    "First, we will work **without** the use of external libraries (such as `scikit-learn`)."
   ]
  },
  {
   "cell_type": "code",
   "execution_count": 226,
   "id": "64a5a2b2-ef6b-4af6-8de0-e93c00052419",
   "metadata": {
    "deletable": false,
    "editable": false,
    "id": "64a5a2b2-ef6b-4af6-8de0-e93c00052419",
    "nbgrader": {
     "cell_type": "code",
     "checksum": "8db2d123d60ab5c5c872b3b5f6df388c",
     "grade": false,
     "grade_id": "cell-8ce3af50a30c576b",
     "locked": true,
     "schema_version": 3,
     "solution": false,
     "task": false
    },
    "tags": []
   },
   "outputs": [],
   "source": [
    "import numpy as np\n",
    "import matplotlib.pyplot as plt"
   ]
  },
  {
   "cell_type": "markdown",
   "id": "1b798d95-ee40-470c-9efe-6f73513acabe",
   "metadata": {
    "deletable": false,
    "editable": false,
    "id": "1b798d95-ee40-470c-9efe-6f73513acabe",
    "nbgrader": {
     "cell_type": "markdown",
     "checksum": "f54357d640bdb3dc931efa0ff5d1a0b2",
     "grade": false,
     "grade_id": "cell-1a7c1f6d67f2f2c0",
     "locked": true,
     "schema_version": 3,
     "solution": false,
     "task": false
    },
    "tags": []
   },
   "source": [
    "### 1. Dataset"
   ]
  },
  {
   "cell_type": "code",
   "execution_count": 227,
   "id": "a10f1001-e8c3-44fd-a7b6-db63519bfd58",
   "metadata": {
    "deletable": false,
    "editable": false,
    "id": "a10f1001-e8c3-44fd-a7b6-db63519bfd58",
    "nbgrader": {
     "cell_type": "code",
     "checksum": "e5de1fe7d5aaae1875c4a69b0c08ca52",
     "grade": false,
     "grade_id": "cell-88e65b981197691f",
     "locked": true,
     "schema_version": 3,
     "solution": false,
     "task": false
    },
    "outputId": "6aa2fc4a-dbea-4b31-e95d-b90d60dbda9d",
    "tags": []
   },
   "outputs": [
    {
     "data": {
      "image/png": "[encoded data removed]",
      "text/plain": [
       "<Figure size 640x480 with 1 Axes>"
      ]
     },
     "metadata": {},
     "output_type": "display_data"
    }
   ],
   "source": [
    "# Let us generate data points from a relatively complicated function\n",
    "N = 100\n",
    "alpha, sigma = 2., 3.\n",
    "X = np.linspace(-3, 3, num=N)\n",
    "y = X + (alpha * np.sin((2. * np.pi * X) / sigma) * np.exp(-(X ** 2) / (sigma ** 2)))\n",
    "# Add some random noise\n",
    "rng = np.random.default_rng(42)\n",
    "y_noisy = y + rng.standard_normal(N) * 2.\n",
    "# Show the data points\n",
    "plt.plot(X, y_noisy, 'o')\n",
    "plt.plot(X, y)\n",
    "plt.tight_layout()"
   ]
  },
  {
   "cell_type": "markdown",
   "id": "b2aee466-b495-4f4d-a2ca-739de04b8c8a",
   "metadata": {
    "deletable": false,
    "editable": false,
    "id": "b2aee466-b495-4f4d-a2ca-739de04b8c8a",
    "nbgrader": {
     "cell_type": "markdown",
     "checksum": "1763f35098aedc40398a55b72eea5de9",
     "grade": false,
     "grade_id": "cell-592514d0abb550f9",
     "locked": true,
     "schema_version": 3,
     "solution": false,
     "task": false
    },
    "tags": []
   },
   "source": [
    "**(Question)** Shuffle and split the dataset into training (75%) and validation (25%) sets. Store the results into variables `X_train`, `y_train`, `X_valid`, `y_valid`.\n",
    "\n",
    "*Hint:* you can use `rng.permutation` to generate a random permutation of the points."
   ]
  },
  {
   "cell_type": "code",
   "execution_count": 228,
   "id": "ea383011",
   "metadata": {
    "deletable": false,
    "id": "ea383011",
    "nbgrader": {
     "cell_type": "code",
     "checksum": "58f2f4bd5bda3adcb6188372cf6e2849",
     "grade": false,
     "grade_id": "cell-1c593a6cf77d2233",
     "locked": false,
     "schema_version": 3,
     "solution": true,
     "task": false
    },
    "tags": []
   },
   "outputs": [],
   "source": [
    "points_permutated = rng.permutation(N)\n",
    "X_shuffle = X[points_permutated]\n",
    "X_train = X_shuffle[:75]\n",
    "X_valid = X_shuffle[75:]\n",
    "y_shuffle = y_noisy[points_permutated]\n",
    "y_train = y_shuffle[:75]\n",
    "y_valid = y_shuffle[75:]"
   ]
  },
  {
   "cell_type": "code",
   "execution_count": 229,
   "id": "8a33f7b2-d77d-4a2b-b723-c1c9b707addc",
   "metadata": {
    "deletable": false,
    "editable": false,
    "id": "8a33f7b2-d77d-4a2b-b723-c1c9b707addc",
    "nbgrader": {
     "cell_type": "code",
     "checksum": "4f6109cbbfc4404fcf16e473bdee47aa",
     "grade": true,
     "grade_id": "train-valid-split",
     "locked": true,
     "points": 0,
     "schema_version": 3,
     "solution": false,
     "task": false
    },
    "tags": []
   },
   "outputs": [],
   "source": [
    "assert X_train.shape == (75,)\n",
    "assert y_train.shape == (75,)\n",
    "assert X_valid.shape == (25,)\n",
    "assert y_valid.shape == (25,)\n",
    "assert np.any(X_valid != X[75:]) # points should be shuffled"
   ]
  },
  {
   "cell_type": "markdown",
   "id": "db2d33dc-d3f2-4e79-814d-2a90a6b4aa09",
   "metadata": {
    "deletable": false,
    "editable": false,
    "id": "db2d33dc-d3f2-4e79-814d-2a90a6b4aa09",
    "nbgrader": {
     "cell_type": "markdown",
     "checksum": "80754b0c31ee2eeee212a89a87c2331a",
     "grade": false,
     "grade_id": "cell-a50781303dbb0b89",
     "locked": true,
     "schema_version": 3,
     "solution": false,
     "task": false
    },
    "tags": []
   },
   "source": [
    "### 2. Linear regression in 1D\n",
    "\n",
    "Recall the 1D linear regression model, where we search for parameters $w_0, w_1$ that will satisfy $y_i = w_0 + w_1 x_i$ (for all $i$ in the training set).\n",
    "\n",
    "To simplify calculations, we usually set $\\textbf{w} = [w_0, w_1]^T$ and $\\textbf{x}_i = [1, x_i]^T$.\n",
    "\n",
    "Then we have $y_i = \\textbf{w}^T \\textbf{x}_i $."
   ]
  },
  {
   "cell_type": "markdown",
   "id": "fbf33cae",
   "metadata": {
    "deletable": false,
    "editable": false,
    "id": "fbf33cae",
    "nbgrader": {
     "cell_type": "markdown",
     "checksum": "2375cb0786713962b9aac46a09c94784",
     "grade": false,
     "grade_id": "cell-00faf05cb395d4cb",
     "locked": true,
     "schema_version": 3,
     "solution": false,
     "task": false
    },
    "tags": []
   },
   "source": [
    "**(Question)** Add a column with ones to the points in `X_train` and `X_valid`. Store the result in new variables `X_train_ones` and `X_valid_ones`:"
   ]
  },
  {
   "cell_type": "code",
   "execution_count": 230,
   "id": "b254912c",
   "metadata": {
    "deletable": false,
    "id": "b254912c",
    "nbgrader": {
     "cell_type": "code",
     "checksum": "11806165c764eec786443a87a7cc49be",
     "grade": false,
     "grade_id": "cell-e7f5d097f75c4f68",
     "locked": false,
     "schema_version": 3,
     "solution": true,
     "task": false
    },
    "tags": []
   },
   "outputs": [],
   "source": [
    "X_train_ones = np.ones((np.shape(X_train)[0], 2))\n",
    "X_valid_ones = np.ones((np.shape(X_valid)[0], 2))\n",
    "for i in range(np.shape(X_train)[0]):\n",
    "    X_train_ones[i][1] = X_train[i]\n",
    "for i in range(np.shape(X_valid)[0]):\n",
    "    X_valid_ones[i][1] = X_valid[i]"
   ]
  },
  {
   "cell_type": "markdown",
   "id": "04d97fd7",
   "metadata": {
    "deletable": false,
    "editable": false,
    "id": "04d97fd7",
    "nbgrader": {
     "cell_type": "markdown",
     "checksum": "9b5c6a9eed69c0176b2f7c6ac179e958",
     "grade": false,
     "grade_id": "cell-e585b2cb96ff6c9f",
     "locked": true,
     "schema_version": 3,
     "solution": false,
     "task": false
    },
    "tags": []
   },
   "source": [
    "**(Question)** Use normal equations to find the parameters that minimize the mean squared error on the training set."
   ]
  },
  {
   "cell_type": "code",
   "execution_count": 231,
   "id": "c13562da-c082-4e9f-b4e3-f989988bd6ab",
   "metadata": {
    "deletable": false,
    "id": "c13562da-c082-4e9f-b4e3-f989988bd6ab",
    "nbgrader": {
     "cell_type": "code",
     "checksum": "64163fd345d0e3b32fbbed5b8f793ad3",
     "grade": false,
     "grade_id": "cell-82ff861f9b90b040",
     "locked": false,
     "schema_version": 3,
     "solution": true,
     "task": false
    },
    "tags": []
   },
   "outputs": [],
   "source": [
    "w = (np.linalg.inv(np.transpose(X_train_ones)@X_train_ones))@(np.transpose(X_train_ones)@y_train)"
   ]
  },
  {
   "cell_type": "code",
   "execution_count": 232,
   "id": "cb72d20d",
   "metadata": {
    "deletable": false,
    "editable": false,
    "id": "cb72d20d",
    "nbgrader": {
     "cell_type": "code",
     "checksum": "7b8f5b97c9a877201b14b77c13c15b7f",
     "grade": true,
     "grade_id": "solve-w",
     "locked": true,
     "points": 0,
     "schema_version": 3,
     "solution": false,
     "task": false
    },
    "tags": []
   },
   "outputs": [],
   "source": [
    "assert w.shape == (2,)"
   ]
  },
  {
   "cell_type": "markdown",
   "id": "870f4028",
   "metadata": {
    "deletable": false,
    "editable": false,
    "id": "870f4028",
    "nbgrader": {
     "cell_type": "markdown",
     "checksum": "b67720722c6ef51bf2a5637d89e780d9",
     "grade": false,
     "grade_id": "cell-1d3c7929fc43540b",
     "locked": true,
     "schema_version": 3,
     "solution": false,
     "task": false
    },
    "tags": []
   },
   "source": [
    "**(Question)** Plot the fitted line on top of the data points. Explain the result. (complete the code and answer in the cell below)"
   ]
  },
  {
   "cell_type": "code",
   "execution_count": 233,
   "id": "3e191cf0",
   "metadata": {
    "deletable": false,
    "id": "3e191cf0",
    "nbgrader": {
     "cell_type": "code",
     "checksum": "ae7c304dfc7a5448ecd79f26e7b6607a",
     "grade": false,
     "grade_id": "cell-ed95ed9f720f9cc9",
     "locked": false,
     "schema_version": 3,
     "solution": true,
     "task": false
    },
    "outputId": "d87e1f59-5f59-4c9d-a940-b45b2c073283",
    "tags": []
   },
   "outputs": [
    {
     "data": {
      "image/png": "[encoded data removed]",
      "text/plain": [
       "<Figure size 640x480 with 1 Axes>"
      ]
     },
     "metadata": {},
     "output_type": "display_data"
    }
   ],
   "source": [
    "y_pred = X_train_ones@w\n",
    "plt.plot(X, y_noisy, 'o')\n",
    "plt.plot(X_train, y_pred)\n",
    "plt.tight_layout()"
   ]
  },
  {
   "cell_type": "markdown",
   "id": "12f3fdbd-8e82-4a00-a6fc-7abe8f72f470",
   "metadata": {
    "deletable": false,
    "id": "12f3fdbd-8e82-4a00-a6fc-7abe8f72f470",
    "nbgrader": {
     "cell_type": "markdown",
     "checksum": "09cf3bf5f790835bf559f70cebe73d3f",
     "grade": true,
     "grade_id": "cell-c2fba2a3ea783693",
     "locked": false,
     "points": 0,
     "schema_version": 3,
     "solution": true,
     "task": false
    },
    "tags": []
   },
   "source": [
    "We're underfitting here"
   ]
  },
  {
   "cell_type": "markdown",
   "id": "3e1d6b77",
   "metadata": {
    "deletable": false,
    "editable": false,
    "id": "3e1d6b77",
    "nbgrader": {
     "cell_type": "markdown",
     "checksum": "61599fac027d9e3be3fe8a30ce506626",
     "grade": false,
     "grade_id": "cell-864816e5487a659b",
     "locked": true,
     "schema_version": 3,
     "solution": false,
     "task": false
    },
    "tags": []
   },
   "source": [
    "**(Question)** Plot the loss function landscape. What can you conclude from this visualization? (complete the code and answer in the cell below)\n",
    "\n",
    "*Hint: the loss landscape can be represented by a 2D map (for example of size 100x100) where in each coordinate $(w_0, w_1)$ the value is mean squared error for these parameters. You can use `plt.contourf` to visualize the result.*"
   ]
  },
  {
   "cell_type": "code",
   "execution_count": 234,
   "id": "82e92316",
   "metadata": {
    "deletable": false,
    "id": "82e92316",
    "nbgrader": {
     "cell_type": "code",
     "checksum": "d76f1330237b048a4789a926d7d07ee6",
     "grade": false,
     "grade_id": "cell-5a7320a1abb19319",
     "locked": false,
     "schema_version": 3,
     "solution": true,
     "task": false
    },
    "tags": []
   },
   "outputs": [],
   "source": [
    "#w0 = np.linspace(-100, 100, num=N)\n",
    "#w1 = np.linspace(-100, 100, num=N)\n",
    "#W0, W1 = np.meshgrid(w0, w1)\n",
    "#def loss(a, b):\n",
    "#    w = np.array([a,b])\n",
    "#    y_pred = X_train_ones@w\n",
    "#    (1/N)*np.sum((np.transpose(y_pred-y_noisy))@(y_pred-y_noisy))\n",
    "#Z = loss(W0, W1)"
   ]
  },
  {
   "cell_type": "markdown",
   "id": "f070b78b",
   "metadata": {
    "deletable": false,
    "id": "f070b78b",
    "nbgrader": {
     "cell_type": "markdown",
     "checksum": "2fab9a205962a9ebf17d17c0172c4311",
     "grade": true,
     "grade_id": "cell-d477d2d900a8b2e5",
     "locked": false,
     "points": 0,
     "schema_version": 3,
     "solution": true,
     "task": false
    },
    "tags": []
   },
   "source": [
    "YOUR ANSWER HERE"
   ]
  },
  {
   "cell_type": "markdown",
   "id": "b7a97e54",
   "metadata": {
    "deletable": false,
    "editable": false,
    "id": "b7a97e54",
    "nbgrader": {
     "cell_type": "markdown",
     "checksum": "968e9d4eb788317fe97c6fa98d51cbb3",
     "grade": false,
     "grade_id": "cell-9d81b70df8d2f2fd",
     "locked": true,
     "schema_version": 3,
     "solution": false,
     "task": false
    },
    "tags": []
   },
   "source": [
    "### 3. Polynomial linear regression\n",
    "\n",
    "We move on the polynomial linear regression model with degree $D$, where the relationship between $y_i$ and $x_i$ is\n",
    "$ y_i = w_0 + w_1x_i + w_2x_i^2 + \\ldots + w_D x_i^D $\n",
    "\n",
    "With $\\textbf{w} = [w_0, \\ldots, w_D]^T$ and $\\textbf{x}_i = [1, x_i, x_i^2, \\ldots, x_i^D]^T$, we have $y_i = \\textbf{w}^T \\textbf{x}_i $.\n",
    "\n",
    "$D \\geq 1$ is an hyperparameter of the model."
   ]
  },
  {
   "cell_type": "markdown",
   "id": "d34b43a7-9665-4b23-b2d9-eef530f89faa",
   "metadata": {
    "deletable": false,
    "editable": false,
    "id": "d34b43a7-9665-4b23-b2d9-eef530f89faa",
    "nbgrader": {
     "cell_type": "markdown",
     "checksum": "a7a358605f794eeb7b9a178469ec43bb",
     "grade": false,
     "grade_id": "cell-81be175807d22f40",
     "locked": true,
     "schema_version": 3,
     "solution": false,
     "task": false
    },
    "tags": []
   },
   "source": [
    "**(Question)** Complete the following `PolynomialRegression` class"
   ]
  },
  {
   "cell_type": "code",
   "execution_count": 235,
   "id": "28079bb8-3bf3-4cde-8107-c71dff9a399b",
   "metadata": {
    "deletable": false,
    "id": "28079bb8-3bf3-4cde-8107-c71dff9a399b",
    "nbgrader": {
     "cell_type": "code",
     "checksum": "07374b40531309464248155ada989f73",
     "grade": false,
     "grade_id": "polynomial-regression",
     "locked": false,
     "schema_version": 3,
     "solution": true,
     "task": false
    },
    "tags": []
   },
   "outputs": [],
   "source": [
    "class PolynomialRegression():\n",
    "    def __init__(self, D=1):\n",
    "        assert D >=1\n",
    "        self.D = D\n",
    "        self.w = np.random.rand(D)\n",
    "        \n",
    "    def fit(self, X, y):\n",
    "        '''Apply polynomial linear regression to fit `X` to `y`.\n",
    "        The result should be stored in an attribute `w`.'''\n",
    "        self.w = (np.linalg.inv(np.transpose(self.make_poly(X))@self.make_poly(X)))@(np.transpose(self.make_poly(X))@y)\n",
    "        \n",
    "    def predict(self, X):\n",
    "        '''Assuming the model has already been fit, return\n",
    "        predicted `y` values for given `X`.'''\n",
    "        return self.make_poly(X)@self.w \n",
    "\n",
    "    def make_poly(self, X):\n",
    "        '''Augment a dataset of 1D points (vector of size N) to its\n",
    "        data matrix in polynomial form, including the zero column \n",
    "        (matrix of size N x D+1). Return the data matrix.'''\n",
    "        assert X.ndim == 1\n",
    "        col = np.ones(np.shape(X)[0])\n",
    "        matrix = np.power(X,self.D)\n",
    "        my_list = [np.power(X,self.D - i) for i in range(self.D+1)]\n",
    "        matrix = np.stack(tuple(my_list))\n",
    "        return np.transpose(matrix)"
   ]
  },
  {
   "cell_type": "markdown",
   "id": "3e86708c",
   "metadata": {
    "deletable": false,
    "editable": false,
    "id": "3e86708c",
    "nbgrader": {
     "cell_type": "markdown",
     "checksum": "caaabea2ec7c465b326338f85b7b3830",
     "grade": false,
     "grade_id": "cell-134419d23b4fc5cd",
     "locked": true,
     "schema_version": 3,
     "solution": false,
     "task": false
    },
    "tags": []
   },
   "source": [
    "**(Question)** Implement the mean squared error function to measure the quality of predictions."
   ]
  },
  {
   "cell_type": "code",
   "execution_count": 236,
   "id": "7a9c94b7",
   "metadata": {
    "deletable": false,
    "id": "7a9c94b7",
    "nbgrader": {
     "cell_type": "code",
     "checksum": "e095d7c16296d91b400b563a9f3d5861",
     "grade": false,
     "grade_id": "cell-3890b2c7ff438209",
     "locked": false,
     "schema_version": 3,
     "solution": true,
     "task": false
    },
    "tags": []
   },
   "outputs": [],
   "source": [
    "def mean_squared_error(y_true, y_pred):\n",
    "    '''Return the mean squared error between `y_true` and `y_pred`.'''\n",
    "    assert y_true.shape == y_pred.shape\n",
    "    return (np.sum(np.transpose(y_true-y_pred)@(y_true-y_pred)))/len(y_true)"
   ]
  },
  {
   "cell_type": "code",
   "execution_count": 237,
   "id": "e60be97a",
   "metadata": {
    "deletable": false,
    "editable": false,
    "id": "e60be97a",
    "nbgrader": {
     "cell_type": "code",
     "checksum": "f0c82d917159f8345caa4ce24569a89c",
     "grade": true,
     "grade_id": "cell-0421a02ef1792fbd",
     "locked": true,
     "points": 0,
     "schema_version": 3,
     "solution": false,
     "task": false
    },
    "tags": []
   },
   "outputs": [],
   "source": [
    "a, b = np.random.randn(10), np.random.randn(10)\n",
    "assert mean_squared_error(a, b) >= 0.\n",
    "assert mean_squared_error(a, a) == 0."
   ]
  },
  {
   "cell_type": "markdown",
   "id": "85f497eb",
   "metadata": {
    "deletable": false,
    "editable": false,
    "id": "85f497eb",
    "nbgrader": {
     "cell_type": "markdown",
     "checksum": "6f5d068c99a260e5f9a449f7e7514d21",
     "grade": false,
     "grade_id": "cell-efa1920e97836d98",
     "locked": true,
     "schema_version": 3,
     "solution": false,
     "task": false
    },
    "tags": []
   },
   "source": [
    "**(Question)** Apply the polynomial regression model with $D=5$. Compute and print the mean squared error for the training and validation sets."
   ]
  },
  {
   "cell_type": "code",
   "execution_count": 238,
   "id": "fa711040",
   "metadata": {
    "deletable": false,
    "id": "fa711040",
    "nbgrader": {
     "cell_type": "code",
     "checksum": "326b080c94e7948e051039d7084ecf52",
     "grade": false,
     "grade_id": "cell-1f07e33cbb824d27",
     "locked": false,
     "schema_version": 3,
     "solution": true,
     "task": false
    },
    "tags": []
   },
   "outputs": [
    {
     "name": "stdout",
     "output_type": "stream",
     "text": [
      "3.321513387311656\n"
     ]
    }
   ],
   "source": [
    "model = PolynomialRegression(D=5)\n",
    "model.fit(X_train, y_train)\n",
    "y_predicted = model.predict(X_valid)\n",
    "print(mean_squared_error(y_valid, y_predicted))"
   ]
  },
  {
   "cell_type": "markdown",
   "id": "93453e6f",
   "metadata": {
    "deletable": false,
    "editable": false,
    "id": "93453e6f",
    "nbgrader": {
     "cell_type": "markdown",
     "checksum": "2157ea0704b7ba67b2388dabef9f885c",
     "grade": false,
     "grade_id": "cell-8f4f66a900c98b12",
     "locked": true,
     "schema_version": 3,
     "solution": false,
     "task": false
    },
    "tags": []
   },
   "source": [
    "**(Question)** Plot the fitted polynomial curve on top of the data points. Explain the result. (complete the code and answer in the cell below)"
   ]
  },
  {
   "cell_type": "code",
   "execution_count": 239,
   "id": "18e873c6",
   "metadata": {
    "deletable": false,
    "id": "18e873c6",
    "nbgrader": {
     "cell_type": "code",
     "checksum": "bbd3fe2f4ac1fe83c2025e50a9e93fe2",
     "grade": false,
     "grade_id": "cell-850ac8c17b9b160a",
     "locked": false,
     "schema_version": 3,
     "solution": true,
     "task": false
    },
    "tags": []
   },
   "outputs": [
    {
     "data": {
      "image/png": "[encoded data removed]",
      "text/plain": [
       "<Figure size 640x480 with 1 Axes>"
      ]
     },
     "metadata": {},
     "output_type": "display_data"
    }
   ],
   "source": [
    "plt.plot(X, y_noisy, 'o')\n",
    "plt.plot(X_valid, y_predicted, 'go')\n",
    "plt.plot(X, y)\n",
    "plt.tight_layout()"
   ]
  },
  {
   "cell_type": "markdown",
   "id": "cf75f7b1-c39c-41b8-9717-c4b8d61d05ac",
   "metadata": {
    "deletable": false,
    "id": "cf75f7b1-c39c-41b8-9717-c4b8d61d05ac",
    "nbgrader": {
     "cell_type": "markdown",
     "checksum": "6d8f750e56b7e818e78164360450ea70",
     "grade": true,
     "grade_id": "cell-179ac722397feeab",
     "locked": false,
     "points": 0,
     "schema_version": 3,
     "solution": true,
     "task": false
    },
    "tags": []
   },
   "source": [
    "We approached our set of point with a polynomial of degree five we have acceptable results but before deciding if the value D=5 is the value that we'll choose we have to compare different values of D to take a decision"
   ]
  },
  {
   "cell_type": "markdown",
   "id": "3c2a0d9a",
   "metadata": {
    "deletable": false,
    "editable": false,
    "id": "3c2a0d9a",
    "nbgrader": {
     "cell_type": "markdown",
     "checksum": "69f8ae1bc5d0cc9efa3fb92fd2ef9147",
     "grade": false,
     "grade_id": "cell-4a2d1ab57178b9b4",
     "locked": true,
     "schema_version": 3,
     "solution": false,
     "task": false
    },
    "tags": []
   },
   "source": [
    "**(Question)** Using the validation set, implement a simple model selection strategy to optimize hyperparameter $D$ and print this value. For this question, you should limit the search to $D \\in [1, 15]$.\n",
    "To visualize potential underfitting and overfitting effects, plot the evolution of the error on the training and the validation sets for the different values of $D$."
   ]
  },
  {
   "cell_type": "code",
   "execution_count": 240,
   "id": "7e971843-58fb-43e2-9d86-b8a263600d28",
   "metadata": {
    "deletable": false,
    "id": "7e971843-58fb-43e2-9d86-b8a263600d28",
    "nbgrader": {
     "cell_type": "code",
     "checksum": "4466a4ba1e0aa842d96136102ca91413",
     "grade": false,
     "grade_id": "cell-41640ccdf206336f",
     "locked": false,
     "schema_version": 3,
     "solution": true,
     "task": false
    },
    "tags": []
   },
   "outputs": [
    {
     "data": {
      "image/png": "[encoded data removed]",
      "text/plain": [
       "<Figure size 640x480 with 1 Axes>"
      ]
     },
     "metadata": {},
     "output_type": "display_data"
    }
   ],
   "source": [
    "errors_training = []\n",
    "errors_testing = []\n",
    "for d in range(1,16):\n",
    "    model = PolynomialRegression(D=d)\n",
    "    model.fit(X_train, y_train)\n",
    "    y_predicted = model.predict(X_valid)\n",
    "    y_predicted_train = model.predict(X_train)\n",
    "    errors_testing.append(mean_squared_error(y_valid, y_predicted))\n",
    "    errors_training.append(mean_squared_error(y_train, y_predicted_train))\n",
    "plt.plot([i for i in range(1,16)], errors_testing, label='Testing')\n",
    "plt.plot([i for i in range(1,16)], errors_training, label='training')\n",
    "plt.xlabel('D')\n",
    "plt.ylabel('Mean squared')\n",
    "plt.legend()\n",
    "plt.tight_layout()"
   ]
  },
  {
   "cell_type": "markdown",
   "id": "006fc507",
   "metadata": {
    "deletable": false,
    "editable": false,
    "id": "006fc507",
    "nbgrader": {
     "cell_type": "markdown",
     "checksum": "4959a0a6f5161f8130170755de5575eb",
     "grade": false,
     "grade_id": "cell-3796c7bb6c9210f9",
     "locked": true,
     "schema_version": 3,
     "solution": false,
     "task": false
    },
    "tags": []
   },
   "source": [
    "**(Question)** Plot the fitted polynomial curve of the best model on top of the data points. Comment the results."
   ]
  },
  {
   "cell_type": "code",
   "execution_count": 241,
   "id": "7101773d",
   "metadata": {
    "deletable": false,
    "id": "7101773d",
    "nbgrader": {
     "cell_type": "code",
     "checksum": "34c6aa4d3e841183990df66bf9b1b7de",
     "grade": false,
     "grade_id": "cell-0bdafbf3133605ca",
     "locked": false,
     "schema_version": 3,
     "solution": true,
     "task": false
    },
    "tags": []
   },
   "outputs": [
    {
     "name": "stdout",
     "output_type": "stream",
     "text": [
      "2.703261599036465\n"
     ]
    },
    {
     "data": {
      "image/png": "[encoded data removed]",
      "text/plain": [
       "<Figure size 640x480 with 1 Axes>"
      ]
     },
     "metadata": {},
     "output_type": "display_data"
    }
   ],
   "source": [
    "model = PolynomialRegression(D=7)\n",
    "model.fit(X_train, y_train)\n",
    "y_predicted = model.predict(X_valid)\n",
    "print(mean_squared_error(y_valid, y_predicted))\n",
    "plt.plot(X, y_noisy, 'o')\n",
    "plt.plot(X_valid, y_predicted, 'go')\n",
    "plt.plot(X, y)\n",
    "plt.tight_layout()"
   ]
  },
  {
   "cell_type": "markdown",
   "id": "de6c08a8-993d-4273-8235-d75adaa8e672",
   "metadata": {
    "deletable": false,
    "id": "de6c08a8-993d-4273-8235-d75adaa8e672",
    "nbgrader": {
     "cell_type": "markdown",
     "checksum": "bce9e5800af711377a8c64273a8ce55b",
     "grade": true,
     "grade_id": "cell-a69e4cdfce15e1cd",
     "locked": false,
     "points": 0,
     "schema_version": 3,
     "solution": true,
     "task": false
    },
    "tags": []
   },
   "source": [
    "We have a acceptable fit to our data points but we could try to reduce a little bit the overfitting"
   ]
  },
  {
   "cell_type": "markdown",
   "id": "b62eef27",
   "metadata": {
    "id": "b62eef27"
   },
   "source": [
    "### 4. Regularized polynomial regression\n",
    "\n",
    "Now, we want to implement polynomial regression with *weight decay* regularization:\n",
    "$\\hat{L}(\\textbf{w}) = \\frac{1}{N} \\lVert \\textbf{X} \\textbf{w} - \\textbf{y} \\rVert^2 + \\lambda \\lVert\\textbf{w}\\rVert^2$\n",
    "\n",
    "Here, $\\lambda \\geq 0$ is another hyperparameter of our model."
   ]
  },
  {
   "cell_type": "code",
   "execution_count": null,
   "id": "a371d80b",
   "metadata": {
    "deletable": false,
    "id": "a371d80b",
    "nbgrader": {
     "cell_type": "code",
     "checksum": "58b19e0c5ae207c45697c042491cbf14",
     "grade": false,
     "grade_id": "cell-d691c94c3c48670b",
     "locked": false,
     "schema_version": 3,
     "solution": true,
     "task": false
    },
    "tags": []
   },
   "outputs": [],
   "source": [
    "class RegularizedPolynomialRegression():\n",
    "    def __init__(self, D=1, lmbda=1.):\n",
    "        assert D >=1 and lmbda >= 0.\n",
    "        self.D = D\n",
    "        self.lmbda = lmbda\n",
    "        \n",
    "    def fit(self, X, y):\n",
    "        '''Apply polynomial linear regression to fit `X` to `y`.\n",
    "        The result should be stored in an attribute `w`.'''\n",
    "        # YOUR CODE HERE\n",
    "        raise NotImplementedError()\n",
    "        \n",
    "    def predict(self, X):\n",
    "        '''Assuming the model has already been fit, return\n",
    "        predicted `y` values for given `X`.'''\n",
    "        # YOUR CODE HERE\n",
    "        raise NotImplementedError()\n",
    "\n",
    "    def make_poly(self, X):\n",
    "        '''Augment a dataset of 1D points (vector of size N) to its\n",
    "        data matrix in polynomial form, including the zero column \n",
    "        (matrix of size N x D+1). Return the data matrix.'''\n",
    "        assert X.ndim == 1\n",
    "        # YOUR CODE HERE\n",
    "        raise NotImplementedError()"
   ]
  },
  {
   "cell_type": "markdown",
   "id": "bf5a876e-aba2-48c3-ba84-5a2e9404b223",
   "metadata": {
    "deletable": false,
    "editable": false,
    "id": "bf5a876e-aba2-48c3-ba84-5a2e9404b223",
    "nbgrader": {
     "cell_type": "markdown",
     "checksum": "d91fae5b44860437ba4925f2086c36a9",
     "grade": false,
     "grade_id": "cell-103fd01e4f18bd87",
     "locked": true,
     "schema_version": 3,
     "solution": false,
     "task": false
    },
    "tags": []
   },
   "source": [
    "**(Question)** Apply regularized linear regression and play around with hyperparameters $D$ and $\\lambda$. Plot the result."
   ]
  },
  {
   "cell_type": "code",
   "execution_count": null,
   "id": "88fe896e",
   "metadata": {
    "deletable": false,
    "id": "88fe896e",
    "nbgrader": {
     "cell_type": "code",
     "checksum": "fe4e214428b246216ad986691ca9c0b9",
     "grade": false,
     "grade_id": "cell-4d492ff3d1b0abc0",
     "locked": false,
     "schema_version": 3,
     "solution": true,
     "task": false
    },
    "tags": []
   },
   "outputs": [],
   "source": [
    "# YOUR CODE HERE\n",
    "raise NotImplementedError()"
   ]
  },
  {
   "cell_type": "markdown",
   "id": "a2bd5618",
   "metadata": {
    "deletable": false,
    "editable": false,
    "id": "a2bd5618",
    "nbgrader": {
     "cell_type": "markdown",
     "checksum": "6a9791858a9681769a35da95bb0a2869",
     "grade": false,
     "grade_id": "cell-3f87566482994138",
     "locked": true,
     "schema_version": 3,
     "solution": false,
     "task": false
    },
    "tags": []
   },
   "source": [
    "### 5. Comparison with `sklearn`"
   ]
  },
  {
   "cell_type": "code",
   "execution_count": null,
   "id": "b019657b",
   "metadata": {
    "deletable": false,
    "editable": false,
    "id": "b019657b",
    "nbgrader": {
     "cell_type": "code",
     "checksum": "5f39768d5d809efe729c6348b425f9c1",
     "grade": false,
     "grade_id": "cell-2214d7d896066539",
     "locked": true,
     "schema_version": 3,
     "solution": false,
     "task": false
    },
    "tags": []
   },
   "outputs": [],
   "source": [
    "from sklearn.preprocessing import PolynomialFeatures\n",
    "from sklearn.linear_model import LinearRegression, Ridge"
   ]
  },
  {
   "cell_type": "markdown",
   "id": "4e22cfd9-90c9-4ba5-949e-c4364c4f5901",
   "metadata": {
    "deletable": false,
    "editable": false,
    "id": "4e22cfd9-90c9-4ba5-949e-c4364c4f5901",
    "nbgrader": {
     "cell_type": "markdown",
     "checksum": "0f43dd7ad8ff8c93fd54050ffbea450f",
     "grade": false,
     "grade_id": "cell-eee5b420e0d1c11c",
     "locked": true,
     "schema_version": 3,
     "solution": false,
     "task": false
    },
    "tags": []
   },
   "source": [
    "**(Question)** Use the `sklearn` classes imported above to apply polynomial regression on our toy dataset. Compare the results with your implementation."
   ]
  },
  {
   "cell_type": "code",
   "execution_count": null,
   "id": "b6c22765",
   "metadata": {
    "deletable": false,
    "id": "b6c22765",
    "nbgrader": {
     "cell_type": "code",
     "checksum": "19a3ac0c7cb0fe81d39c08089e0b0e9a",
     "grade": false,
     "grade_id": "cell-0aa9e5838da9ea0c",
     "locked": false,
     "schema_version": 3,
     "solution": true,
     "task": false
    },
    "tags": []
   },
   "outputs": [],
   "source": [
    "# YOUR CODE HERE\n",
    "raise NotImplementedError()"
   ]
  }
 ],
 "metadata": {
  "colab": {
   "provenance": []
  },
  "kernelspec": {
   "display_name": "Python 3 (ipykernel)",
   "language": "python",
   "name": "python3"
  },
  "language_info": {
   "codemirror_mode": {
    "name": "ipython",
    "version": 3
   },
   "file_extension": ".py",
   "mimetype": "text/x-python",
   "name": "python",
   "nbconvert_exporter": "python",
   "pygments_lexer": "ipython3",
   "version": "3.10.6"
  }
 },
 "nbformat": 4,
 "nbformat_minor": 5
}
